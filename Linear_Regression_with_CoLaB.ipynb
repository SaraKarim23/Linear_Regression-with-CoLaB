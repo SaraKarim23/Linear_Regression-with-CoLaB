{
  "nbformat": 4,
  "nbformat_minor": 0,
  "metadata": {
    "colab": {
      "name": "Linear Regression with CoLaB.ipynb",
      "provenance": [],
      "authorship_tag": "ABX9TyM+3gjr7LnfEgcAqtOgMLE0",
      "include_colab_link": true
    },
    "kernelspec": {
      "name": "python3",
      "display_name": "Python 3"
    }
  },
  "cells": [
    {
      "cell_type": "markdown",
      "metadata": {
        "id": "view-in-github",
        "colab_type": "text"
      },
      "source": [
        "<a href=\"https://colab.research.google.com/github/SaraKarim23/Linear_Regression-with-CoLaB/blob/main/Linear_Regression_with_CoLaB.ipynb\" target=\"_parent\"><img src=\"https://colab.research.google.com/assets/colab-badge.svg\" alt=\"Open In Colab\"/></a>"
      ]
    },
    {
      "cell_type": "code",
      "metadata": {
        "id": "0Xa9h6YunW5z"
      },
      "source": [
        "import matplotlib.pyplot as plt\r\n",
        "import pandas as pd\r\n",
        "import numpy as np"
      ],
      "execution_count": null,
      "outputs": []
    },
    {
      "cell_type": "code",
      "metadata": {
        "id": "LVPice3Ijebs"
      },
      "source": [
        "x_and_y = [(0, 1), (1, 2), (2, 3), (3, 5), (4, 7), (5, 8), (6, 7), (7, 10), (8, 12), (9, 13)]\r\n",
        "data = pd.DataFrame(x_and_y, columns=['x' , 'y'])\r\n",
        "data"
      ],
      "execution_count": null,
      "outputs": []
    },
    {
      "cell_type": "code",
      "metadata": {
        "colab": {
          "base_uri": "https://localhost:8080/",
          "height": 303
        },
        "id": "PBB44wgooz2D",
        "outputId": "cf344b10-bdde-4a79-8445-f27cd66ce4e7"
      },
      "source": [
        "x = data['x']\r\n",
        "y = data['y']\r\n",
        "\r\n",
        "c = 0\r\n",
        "m = 1.5\r\n",
        "y_predicted = c + m*x\r\n",
        "error = y - y_predicted\r\n",
        "print(np.mean(error))\r\n",
        "plt.scatter(x,y)\r\n",
        "plt.plot(x, y_predicted)\r\n"
      ],
      "execution_count": null,
      "outputs": [
        {
          "output_type": "stream",
          "text": [
            "0.05\n"
          ],
          "name": "stdout"
        },
        {
          "output_type": "execute_result",
          "data": {
            "text/plain": [
              "[<matplotlib.lines.Line2D at 0x7f657f326f28>]"
            ]
          },
          "metadata": {
            "tags": []
          },
          "execution_count": 14
        },
        {
          "output_type": "display_data",
          "data": {
            "image/png": "[encoded data removed]",
            "text/plain": [
              "<Figure size 432x288 with 1 Axes>"
            ]
          },
          "metadata": {
            "tags": [],
            "needs_background": "light"
          }
        }
      ]
    }
  ]
}